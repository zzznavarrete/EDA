{
 "cells": [
  {
   "cell_type": "markdown",
   "source": [
    "# Etapas y evaluación de modelo\r\n",
    "\r\n",
    "<br/>\r\n",
    "\r\n",
    "### Ciclo\r\n",
    "<img src='img/ciclo.png' width=\"600px\"/>\r\n",
    "\r\n",
    "Cualquier experimento conlleva el método científico. Es decir, generar hipótesis y probarlas.\r\n",
    "\r\n",
    "Para probar las hipótesis, dependiendo mi distribución de los datos, puedo hacerlo con experimentos tipo :\r\n",
    "\r\n",
    "- Anova (de los más ocupado para comprobación entre datos muy especificos)\r\n",
    "- Z-test\r\n",
    "- T-test\r\n",
    "- Chi-squared test (en caso de no saber mi distribución esta es la necesaria)\r\n",
    "\r\n",
    "\r\n",
    "Ya teniendo la hipótesis, me dará un p-value. En estadística general y contrastes de hipótesis, el valor p (conocido también como p, p-valor, valor de p consignado, o directamente en inglés p-value) se define como la probabilidad de que un valor estadístico calculado sea posible dada una hipótesis nula cierta. En términos simples, el valor p ayuda a diferenciar resultados que son producto del azar del muestreo, de resultados que son estadísticamente significativos.\r\n",
    "\r\n",
    "--- \r\n",
    "\r\n",
    "\r\n",
    "Otra forma de testeo es tener un conjunto de datos, el cual luego voy a entrenar y voy a probarlo.\r\n",
    "\r\n",
    "Dividiré el dataset en entrenamiento y testing (70-30 u 80-20).\r\n",
    "\r\n",
    "Luego de entrenar mi modelo debo evaluarlo con diferentes métricas\r\n",
    "\r\n",
    "<img src='img/metrics.png' width=\"600px\" />"
   ],
   "metadata": {}
  },
  {
   "cell_type": "markdown",
   "source": [],
   "metadata": {}
  }
 ],
 "metadata": {
  "orig_nbformat": 4,
  "language_info": {
   "name": "python"
  }
 },
 "nbformat": 4,
 "nbformat_minor": 2
}